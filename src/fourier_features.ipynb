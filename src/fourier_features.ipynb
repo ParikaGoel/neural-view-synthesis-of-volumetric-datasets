{
 "metadata": {
  "language_info": {
   "codemirror_mode": {
    "name": "ipython",
    "version": 3
   },
   "file_extension": ".py",
   "mimetype": "text/x-python",
   "name": "python",
   "nbconvert_exporter": "python",
   "pygments_lexer": "ipython3",
   "version": "3.6.9-final"
  },
  "orig_nbformat": 2,
  "kernelspec": {
   "name": "python36964bitthesisenvvenv10950a50c75a45b1bd7fa972204e50f1",
   "display_name": "Python 3.6.9 64-bit ('thesis_env': venv)"
  }
 },
 "nbformat": 4,
 "nbformat_minor": 2,
 "cells": [
  {
   "source": [
    "## Jupyter notebook to plot the Gaussian distribution of the sampled fourier features \n",
    "### To study the effect of feature size of Fourier Encoding, 12 networks are trained with different combinations of feature size and standard deviation\n",
    "### This notebook runs the saved models for all the runs and plots the distribution of sampled fourier features"
   ],
   "cell_type": "markdown",
   "metadata": {}
  },
  {
   "cell_type": "code",
   "execution_count": null,
   "metadata": {},
   "outputs": [],
   "source": [
    "import torch\n",
    "import numpy as np\n",
    "import matplotlib.pyplot as plt"
   ]
  },
  {
   "cell_type": "code",
   "execution_count": 2,
   "metadata": {},
   "outputs": [
    {
     "output_type": "execute_result",
     "data": {
      "text/plain": [
       "<torch._C.Generator at 0x7f1f580334d0>"
      ]
     },
     "metadata": {},
     "execution_count": 2
    }
   ],
   "source": [
    "# global params\n",
    "\n",
    "width = 512\n",
    "height = 512\n",
    "device = torch.device(\"cuda\" if torch.cuda.is_available() else \"cpu\")\n",
    "\n",
    "# volume params\n",
    "center = torch.Tensor([0.0, 0.0, 0.0])\n",
    "radius = 1.0\n",
    "vol_params = (\"sphere\", center, radius)\n",
    "\n",
    "np.random.seed(42)\n",
    "torch.manual_seed(42)"
   ]
  },
  {
   "cell_type": "code",
   "execution_count": 3,
   "metadata": {},
   "outputs": [],
   "source": [
    "# model paths\n",
    "model_paths = {}\n",
    "model_paths['25_64'] = '/home/parika/WorkingDir/Thesis/Code/dvr/outputs/ejecta/dvr/effectOfFourierFeatures/gauss_25.2_64/models/200.pth'\n",
    "model_paths['25_128'] = '/home/parika/WorkingDir/Thesis/Code/dvr/outputs/ejecta/dvr/effectOfFourierFeatures/gauss_25.2_128/models/200.pth'\n",
    "model_paths['25_256'] = '/home/parika/WorkingDir/Thesis/Code/dvr/outputs/ejecta/dvr/effectOfFourierFeatures/gauss_25.2_256/models/200.pth'\n",
    "model_paths['25_512'] = '/home/parika/WorkingDir/Thesis/Code/dvr/outputs/ejecta/dvr/effectOfFourierFeatures/gauss_25.2_512/models/200.pth'\n",
    "\n",
    "model_paths['38_64'] = '/home/parika/WorkingDir/Thesis/Code/dvr/outputs/ejecta/dvr/effectOfFourierFeatures/gauss_37.8_64/models/200.pth'\n",
    "model_paths['38_128'] = '/home/parika/WorkingDir/Thesis/Code/dvr/outputs/ejecta/dvr/effectOfFourierFeatures/gauss_37.8_128/models/200.pth'\n",
    "model_paths['38_256'] = '/home/parika/WorkingDir/Thesis/Code/dvr/outputs/ejecta/dvr/effectOfFourierFeatures/gauss_37.8_256/models/200.pth'\n",
    "model_paths['38_512'] = '/home/parika/WorkingDir/Thesis/Code/dvr/outputs/ejecta/dvr/effectOfFourierFeatures/gauss_37.8_512/models/200.pth'\n",
    "\n",
    "model_paths['50_64'] = '/home/parika/WorkingDir/Thesis/Code/dvr/outputs/ejecta/dvr/effectOfFourierFeatures/gauss_50.4_64/models/200.pth'\n",
    "model_paths['50_128'] = '/home/parika/WorkingDir/Thesis/Code/dvr/outputs/ejecta/dvr/effectOfFourierFeatures/gauss_50.4_128/models/200.pth'\n",
    "model_paths['50_256'] = '/home/parika/WorkingDir/Thesis/Code/dvr/outputs/ejecta/dvr/effectOfFourierFeatures/gauss_50.4_256/models/200.pth'\n",
    "model_paths['50_512'] = '/home/parika/WorkingDir/Thesis/Code/dvr/outputs/ejecta/dvr/effectOfFourierFeatures/gauss_50.4_512/models/200.pth'\n",
    "\n",
    "model_paths['63_64'] = '/home/parika/WorkingDir/Thesis/Code/dvr/outputs/ejecta/dvr/effectOfFourierFeatures/gauss_62.84_64/models/200.pth'\n",
    "model_paths['63_128'] = '/home/parika/WorkingDir/Thesis/Code/dvr/outputs/ejecta/dvr/effectOfFourierFeatures/gauss_62.84_128/models/200.pth'\n",
    "model_paths['63_256'] = '/home/parika/WorkingDir/Thesis/Code/dvr/outputs/ejecta/dvr/effectOfFourierFeatures/gauss_62.84_256/models/200.pth'\n",
    "model_paths['63_512'] = '/home/parika/WorkingDir/Thesis/Code/dvr/outputs/ejecta/dvr/effectOfFourierFeatures/gauss_62.84_512/models/200.pth'"
   ]
  },
  {
   "cell_type": "code",
   "execution_count": 4,
   "metadata": {},
   "outputs": [],
   "source": [
    "standard_deviation = ['25', '38', '50', '63']\n",
    "# standard_deviation = ['63']\n",
    "feature_size = ['64', '128', '256', '512']\n",
    "labels_fs = ['features_%s'%fs for fs in feature_size]\n",
    "labels_sd = ['sd_%s'%sd for sd in standard_deviation]\n",
    "\n",
    "colors_features = ['#F6A131','#0D7336','#4400FF','#FF0000']\n",
    "\n",
    "keys = ['%s_%s'%(sd,fs) for sd in standard_deviation for fs in feature_size]\n",
    "\n",
    "input_maps = {}\n",
    "\n",
    "for key in keys:\n",
    "    checkpoint = torch.load(model_paths[key], map_location=device)\n",
    "    input_maps[key] = checkpoint['input_map'] * 2 * np.pi"
   ]
  },
  {
   "cell_type": "code",
   "execution_count": 6,
   "metadata": {},
   "outputs": [],
   "source": [
    "out_dir = '/home/parika/WorkingDir/Thesis/Documentation/ejecta/EffectOfFeatureSize/freq_dist_hist/'\n",
    "\n",
    "for fs in feature_size:\n",
    "    plot_file = out_dir + 'fs_' + fs + '.png'\n",
    "    plt.figure(figsize=(10,4))\n",
    "\n",
    "    data = []\n",
    "    for count, sd in enumerate(standard_deviation):\n",
    "        key = '%s_%s'%(sd,fs)\n",
    "        data.append(torch.flatten(input_maps[key]).cpu().numpy())\n",
    "        \n",
    "    n, bins, _ = plt.hist(data,histtype='bar',bins=10,color=colors_features, label=labels_sd)\n",
    "    plt.grid(True, which='major', alpha=.3)\n",
    "    plt.xlabel('Values sampled from the distribution',fontsize=15)\n",
    "    plt.ylabel('Number of occurrences',fontsize=15)\n",
    "    plt.xticks(bins.astype(np.int))\n",
    "    # plt.yticks(range(0,n.max().astype(np.int),100))\n",
    "    plt.legend(prop={'size':10})\n",
    "    plt.savefig(plot_file)\n",
    "    plt.close()\n",
    "    # plt.show()"
   ]
  },
  {
   "cell_type": "code",
   "execution_count": null,
   "metadata": {},
   "outputs": [],
   "source": []
  }
 ]
}