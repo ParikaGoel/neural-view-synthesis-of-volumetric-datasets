{
 "metadata": {
  "language_info": {
   "codemirror_mode": {
    "name": "ipython",
    "version": 3
   },
   "file_extension": ".py",
   "mimetype": "text/x-python",
   "name": "python",
   "nbconvert_exporter": "python",
   "pygments_lexer": "ipython3",
   "version": "3.6.9-final"
  },
  "orig_nbformat": 2,
  "kernelspec": {
   "name": "python3",
   "language": "python",
   "display_name": "Python 3"
  }
 },
 "nbformat": 4,
 "nbformat_minor": 2,
 "cells": [
  {
   "cell_type": "code",
   "execution_count": 1,
   "metadata": {},
   "outputs": [],
   "source": [
    "import glob\n",
    "import json\n",
    "import torch\n",
    "import numpy as np\n",
    "from PIL import Image\n",
    "from data import fileIO\n",
    "from data import visualize\n",
    "from data import data_utils\n",
    "from data import camera_utils\n",
    "from matplotlib import pyplot as plt"
   ]
  },
  {
   "cell_type": "code",
   "execution_count": 2,
   "metadata": {
    "tags": [],
    "pycharm": {
     "name": "#%%\n"
    }
   },
   "outputs": [],
   "source": [
    "# downsample\n",
    "# src_folder = \"/home/goel/Thesis/Data/eject/train_1024\"\n",
    "# dest_folder = \"/home/goel/Thesis/Data/eject/train_256\"\n",
    "\n",
    "# for img_file in sorted(glob.glob(src_folder + \"/*.png\")):\n",
    "#     idx = img_file[img_file.rfind('_') + 1:img_file.rfind('.')]\n",
    "#     cam_file = src_folder + \"/camera_\" + idx + \".json\"\n",
    "#     img = Image.open(img_file)\n",
    "#     width, height = img.size\n",
    "#     new_width = int(width / 4)\n",
    "#     new_height = int(height / 4)\n",
    "\n",
    "#     dest_img_file = dest_folder + \"/color_\" + idx + \".png\"\n",
    "#     dest_cam_file = dest_folder + \"/camera_\" + idx + \".json\"\n",
    "\n",
    "#     img = img.resize(size=(new_width, new_height), resample=Image.BILINEAR)\n",
    "#     img.save(dest_img_file)\n",
    "\n",
    "#     with open(cam_file, 'r') as fp:\n",
    "#         cam_info = json.load(fp)\n",
    "\n",
    "#     cam_info['height'] = new_height\n",
    "#     cam_info['width'] = new_width\n",
    "\n",
    "#     with open(dest_cam_file, 'w') as fp:\n",
    "#         json.dump(cam_info, fp)\n",
    "\n"
   ]
  },
  {
   "cell_type": "code",
   "execution_count": 3,
   "metadata": {
    "tags": []
   },
   "outputs": [],
   "source": [
    "import os\n",
    "import glob\n",
    "import numpy as np\n",
    "\n",
    "np.random.seed(42)\n",
    "\n",
    "datadir = '/home/goel/Thesis/Data/eject/val'\n",
    "i_data = []\n",
    "for f in sorted(glob.glob(os.path.join(datadir) + \"/*.png\")):\n",
    "    filename = f[f.rfind('_') + 1:f.rfind('.')]\n",
    "    i_data.append(filename)\n",
    "\n",
    "n_data = len(i_data)\n",
    "n_val = int(0.3 * n_data)\n",
    "n_train = n_data - n_val\n",
    "val_data = np.random.randint(0, n_data-1, size=(n_val))\n",
    "data = np.arange(0, n_data-1)\n",
    "train_data = np.setdiff1d(data, val_data)\n",
    "i_train = np.array(i_data)[train_data]\n",
    "i_val = np.array(i_data)[val_data]"
   ]
  },
  {
   "cell_type": "code",
   "execution_count": 4,
   "metadata": {
    "tags": []
   },
   "outputs": [],
   "source": [
    "# writing viewpoints in excel file\n",
    "import csv\n",
    "from data import export_to_excel\n",
    "\n",
    "datadir = '/home/goel/Thesis/Data/eject'\n",
    "csv_file = '/home/goel/Thesis/Data/eject/viewpoints.csv'\n",
    "\n",
    "i_train = []\n",
    "i_val = []\n",
    "for f in sorted(glob.glob(os.path.join(datadir,\"train\") + \"/*.json\")):\n",
    "    i_train.append(filename)\n",
    "\n",
    "for f in sorted(glob.glob(os.path.join(datadir,\"val\") + \"/*.json\")):\n",
    "    i_val.append(filename)\n",
    "\n",
    "export_to_excel.export_viewpoints(csv_file, i_train, i_val)"
   ]
  },
  {
   "cell_type": "code",
   "execution_count": 5,
   "metadata": {},
   "outputs": [],
   "source": [
    "# reading viewpoints from excel file\n",
    "csv_file  = '/home/goel/Thesis/Data/eject/viewpoints.csv'\n",
    "train_theta, train_phi, val_theta, val_phi = export_to_excel.read_viewpoints(csv_file)\n",
    "print('train viewpoints: ')\n",
    "print('theta_angles: ')\n",
    "print(np.unique(train_theta))\n",
    "print('phi_angles: ')\n",
    "print(np.unique(train_phi))\n",
    "\n",
    "print('val viewpoints: ')\n",
    "print('theta_angles: ')\n",
    "print(np.unique(val_theta))\n",
    "print('phi_angles: ')\n",
    "print(np.unique(val_phi))"
   ]
  }
 ]
}