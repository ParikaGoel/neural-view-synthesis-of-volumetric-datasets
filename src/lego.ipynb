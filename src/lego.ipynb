{
 "metadata": {
  "language_info": {
   "codemirror_mode": {
    "name": "ipython",
    "version": 3
   },
   "file_extension": ".py",
   "mimetype": "text/x-python",
   "name": "python",
   "nbconvert_exporter": "python",
   "pygments_lexer": "ipython3",
   "version": "3.6.9-final"
  },
  "orig_nbformat": 2,
  "kernelspec": {
   "name": "python36964bit455cf936f5d74eed9470ab769c9b3f8c",
   "display_name": "Python 3.6.9 64-bit"
  }
 },
 "nbformat": 4,
 "nbformat_minor": 2,
 "cells": [
  {
   "cell_type": "code",
   "execution_count": 1,
   "metadata": {},
   "outputs": [],
   "source": [
    "import glob\n",
    "import json\n",
    "import torch\n",
    "import numpy as np\n",
    "from PIL import Image\n",
    "from data import visualize\n",
    "from data import data_utils\n",
    "from data import nerf_helpers\n",
    "from model import models\n",
    "from matplotlib import pyplot as plt"
   ]
  },
  {
   "cell_type": "code",
   "execution_count": 2,
   "metadata": {},
   "outputs": [],
   "source": [
    "# separating out the poses for each image\n",
    "# transforms_file = '/home/parika/WorkingDir/Thesis/Data/nerf_synthetic/lego/transforms_test.json'\n",
    "# out_dir = '/home/parika/WorkingDir/Thesis/Data/nerf_synthetic/lego/test/'\n",
    "\n",
    "# with open(transforms_file, 'r') as fp:\n",
    "#     meta = json.load(fp)\n",
    "\n",
    "# for frame in meta['frames']:\n",
    "#     frame_meta = {}\n",
    "#     file_path = frame['file_path']\n",
    "#     fname = file_path[file_path.rfind('/')+1:]\n",
    "#     frame_meta['pose'] = frame['transform_matrix']\n",
    "#     frame_meta['rotation'] = frame['rotation']\n",
    "\n",
    "#     out_file = out_dir + fname + '.json'\n",
    "\n",
    "#     with open(out_file, 'w') as cam_file:\n",
    "#         json.dump(frame_meta, cam_file)\n",
    "\n",
    "\n",
    "            "
   ]
  },
  {
   "cell_type": "code",
   "execution_count": 3,
   "metadata": {
    "tags": []
   },
   "outputs": [
    {
     "output_type": "error",
     "ename": "KeyError",
     "evalue": "'rotation'",
     "traceback": [
      "\u001b[0;31m---------------------------------------------------------------------------\u001b[0m",
      "\u001b[0;31mKeyError\u001b[0m                                  Traceback (most recent call last)",
      "\u001b[0;32m<ipython-input-3-6d0e87549396>\u001b[0m in \u001b[0;36m<module>\u001b[0;34m\u001b[0m\n\u001b[1;32m     21\u001b[0m \u001b[0;34m\u001b[0m\u001b[0m\n\u001b[1;32m     22\u001b[0m     \u001b[0minfo\u001b[0m\u001b[0;34m[\u001b[0m\u001b[0;34m'pose'\u001b[0m\u001b[0;34m]\u001b[0m \u001b[0;34m=\u001b[0m \u001b[0mcam_info\u001b[0m\u001b[0;34m[\u001b[0m\u001b[0;34m'pose'\u001b[0m\u001b[0;34m]\u001b[0m\u001b[0;34m\u001b[0m\u001b[0;34m\u001b[0m\u001b[0m\n\u001b[0;32m---> 23\u001b[0;31m     \u001b[0minfo\u001b[0m\u001b[0;34m[\u001b[0m\u001b[0;34m'rotation_angle_x'\u001b[0m\u001b[0;34m]\u001b[0m \u001b[0;34m=\u001b[0m \u001b[0mcam_info\u001b[0m\u001b[0;34m[\u001b[0m\u001b[0;34m'rotation'\u001b[0m\u001b[0;34m]\u001b[0m\u001b[0;34m\u001b[0m\u001b[0;34m\u001b[0m\u001b[0m\n\u001b[0m\u001b[1;32m     24\u001b[0m \u001b[0;34m\u001b[0m\u001b[0m\n\u001b[1;32m     25\u001b[0m     \u001b[0;31m# actual origin calculated from pose matrix\u001b[0m\u001b[0;34m\u001b[0m\u001b[0;34m\u001b[0m\u001b[0;34m\u001b[0m\u001b[0m\n",
      "\u001b[0;31mKeyError\u001b[0m: 'rotation'"
     ]
    }
   ],
   "source": [
    "# converting camera information to the format used for ejecta so we can use the same code\n",
    "datadir = '/home/parika/WorkingDir/Thesis/Data/nerf_synthetic/lego/test/'\n",
    "savedir = '/home/parika/WorkingDir/Thesis/Data/nerf_synthetic/lego/cam/'\n",
    "\n",
    "for cam_file in glob.glob(os.path.join(datadir,\"*.json\")):\n",
    "    fname = cam_file[cam_file.rfind('/')+1:cam_file.rfind('.')]\n",
    "    new_camfile = os.path.join(savedir, fname+\".json\")\n",
    "    info = {}\n",
    "\n",
    "    with open(cam_file, 'r') as fp:\n",
    "        cam_info = json.load(fp)\n",
    "\n",
    "    pose = torch.Tensor(cam_info['pose']).float()\n",
    "\n",
    "    origin_in_cam = torch.Tensor([0.0, 0.0, 0.0, 1.0])\n",
    "    origin_in_world = pose @ origin_in_cam\n",
    "    spherical = data_utils.cartesian_to_spherical(origin_in_world.unsqueeze_(0))\n",
    "\n",
    "    cartesian_on_radius1 = data_utils.spherical_to_cartesian(torch.Tensor([0.0,0.0,0.0]),1.2,spherical[0,0],\n",
    "    spherical[0,1]) \n",
    "\n",
    "    info['pose'] = cam_info['pose']\n",
    "    info['rotation_angle_x'] = cam_info['rotation']\n",
    "\n",
    "    # actual origin calculated from pose matrix\n",
    "    info['actual_origin'] = origin_in_world.tolist()\n",
    "\n",
    "    # on the same angular line, we calculated point on sphere with radius 1.2\n",
    "    # we will use this one for training, again to keep it similar across all datasets\n",
    "    info['origin'] = cartesian_on_radius1.tolist()\n",
    "\n",
    "    # we will train at half resolution\n",
    "    info['width'] = 400\n",
    "    info['height'] = 400\n",
    "\n",
    "    # rotation_angle_x in degrees is also 40 (maybe it is fov)\n",
    "    # and we are taking same params as used for ejecta\n",
    "    info['fov'] = 40.0\n",
    "    info['farZ'] = 10.0\n",
    "    info['nearZ'] = 0.10000000149011612\n",
    "    info['lookAt'] = [0.0,0.0,0.0]\n",
    "    info['up'] = [0.0,1.0,0.0]\n",
    "\n",
    "    with open(new_camfile, 'w') as fp:\n",
    "        json.dump(info, fp)"
   ]
  },
  {
   "cell_type": "code",
   "execution_count": 4,
   "metadata": {
    "tags": []
   },
   "outputs": [
    {
     "output_type": "stream",
     "name": "stdout",
     "text": "/home/parika/WorkingDir/Thesis/Data/nerf_synthetic/lego/train/r_0.json\n/home/parika/WorkingDir/Thesis/Data/nerf_synthetic/lego/train/r_0.png\n/home/parika/WorkingDir/Thesis/Data/nerf_synthetic/lego/train_vis/r_0_radius4.ply\nNo face information provided. Saving point cloud. To visualize voxelized mesh, please provide face information.\n/home/parika/WorkingDir/Thesis/Data/nerf_synthetic/lego/train/r_1.json\n/home/parika/WorkingDir/Thesis/Data/nerf_synthetic/lego/train/r_1.png\n/home/parika/WorkingDir/Thesis/Data/nerf_synthetic/lego/train_vis/r_1_radius4.ply\nNo face information provided. Saving point cloud. To visualize voxelized mesh, please provide face information.\n/home/parika/WorkingDir/Thesis/Data/nerf_synthetic/lego/train/r_10.json\n/home/parika/WorkingDir/Thesis/Data/nerf_synthetic/lego/train/r_10.png\n/home/parika/WorkingDir/Thesis/Data/nerf_synthetic/lego/train_vis/r_10_radius4.ply\nNo face information provided. Saving point cloud. To visualize voxelized mesh, please provide face information.\n/home/parika/WorkingDir/Thesis/Data/nerf_synthetic/lego/train/r_11.json\n/home/parika/WorkingDir/Thesis/Data/nerf_synthetic/lego/train/r_11.png\n/home/parika/WorkingDir/Thesis/Data/nerf_synthetic/lego/train_vis/r_11_radius4.ply\nNo face information provided. Saving point cloud. To visualize voxelized mesh, please provide face information.\n/home/parika/WorkingDir/Thesis/Data/nerf_synthetic/lego/train/r_12.json\n/home/parika/WorkingDir/Thesis/Data/nerf_synthetic/lego/train/r_12.png\n/home/parika/WorkingDir/Thesis/Data/nerf_synthetic/lego/train_vis/r_12_radius4.ply\nNo face information provided. Saving point cloud. To visualize voxelized mesh, please provide face information.\n/home/parika/WorkingDir/Thesis/Data/nerf_synthetic/lego/train/r_13.json\n/home/parika/WorkingDir/Thesis/Data/nerf_synthetic/lego/train/r_13.png\n/home/parika/WorkingDir/Thesis/Data/nerf_synthetic/lego/train_vis/r_13_radius4.ply\nNo face information provided. Saving point cloud. To visualize voxelized mesh, please provide face information.\n/home/parika/WorkingDir/Thesis/Data/nerf_synthetic/lego/train/r_14.json\n/home/parika/WorkingDir/Thesis/Data/nerf_synthetic/lego/train/r_14.png\n/home/parika/WorkingDir/Thesis/Data/nerf_synthetic/lego/train_vis/r_14_radius4.ply\nNo face information provided. Saving point cloud. To visualize voxelized mesh, please provide face information.\n/home/parika/WorkingDir/Thesis/Data/nerf_synthetic/lego/train/r_15.json\n/home/parika/WorkingDir/Thesis/Data/nerf_synthetic/lego/train/r_15.png\n/home/parika/WorkingDir/Thesis/Data/nerf_synthetic/lego/train_vis/r_15_radius4.ply\nNo face information provided. Saving point cloud. To visualize voxelized mesh, please provide face information.\n/home/parika/WorkingDir/Thesis/Data/nerf_synthetic/lego/train/r_16.json\n/home/parika/WorkingDir/Thesis/Data/nerf_synthetic/lego/train/r_16.png\n/home/parika/WorkingDir/Thesis/Data/nerf_synthetic/lego/train_vis/r_16_radius4.ply\nNo face information provided. Saving point cloud. To visualize voxelized mesh, please provide face information.\n"
    }
   ],
   "source": [
    "# projecting on volume\n",
    "\n",
    "# volume params\n",
    "center = torch.Tensor([0.0, 0.0, 0.0])\n",
    "radius = 1.0\n",
    "vol_params = (\"sphere\", center, radius)\n",
    "\n",
    "datadir = '/home/parika/WorkingDir/Thesis/Data/nerf_synthetic/lego/train/'\n",
    "savedir = '/home/parika/WorkingDir/Thesis/Data/nerf_synthetic/lego/train_vis/'\n",
    "\n",
    "for cam_file in sorted(glob.glob(os.path.join(datadir,\"*.json\"))):\n",
    "    fname = cam_file[cam_file.rfind('/')+1:cam_file.rfind('.')]\n",
    "    img_file = os.path.join(datadir,fname+'.png')\n",
    "    vis_file = os.path.join(savedir,fname+'_radius4.ply')\n",
    "\n",
    "    print(cam_file)\n",
    "    print(img_file)\n",
    "    print(vis_file)\n",
    "\n",
    "    points, viewdirs, valid_mask = data_utils.get_input_data(cam_file, vol_params, \"cartesian\", \"cartesian\", None)\n",
    "\n",
    "    img = Image.open(img_file)\n",
    "    img = img.resize(size=(400, 400), resample=Image.NEAREST)\n",
    "    img = torch.Tensor(np.array(img).astype(np.float32)[...,:3] / 255.).permute(2,0,1)\n",
    "\n",
    "    # points[1,...] = -points[1,...]\n",
    "    # points[2,...] = -points[2,...]\n",
    "\n",
    "    visualize.project_input_on_bounding_vol(points, img, valid_mask, vis_file)"
   ]
  },
  {
   "cell_type": "code",
   "execution_count": 1,
   "metadata": {
    "tags": []
   },
   "outputs": [
    {
     "output_type": "stream",
     "name": "stdout",
     "text": "No face information provided. Saving point cloud. To visualize voxelized mesh, please provide face information.\n"
    }
   ],
   "source": [
    "import glob\n",
    "import json\n",
    "import torch\n",
    "import numpy as np\n",
    "from PIL import Image\n",
    "from data import visualize\n",
    "from data import lego_helpers as helpers\n",
    "\n",
    "# volume params\n",
    "center = torch.Tensor([0.0, 0.0, 0.0])\n",
    "radius = 3.0\n",
    "vol_params = (\"sphere\", center, radius)\n",
    "\n",
    "hwf = [800, 800, 1111.1110311937682]\n",
    "near = 2.0\n",
    "far = 6.0\n",
    "datadir = '/home/parika/WorkingDir/Thesis/Data/nerf_synthetic/lego/train'\n",
    "savedir = '/home/parika/WorkingDir/Thesis/Data/nerf_synthetic/lego/vis'\n",
    "\n",
    "for cam_file in sorted(glob.glob(os.path.join(datadir,\"r_0.json\"))):\n",
    "    fname = cam_file[cam_file.rfind('/')+1:cam_file.rfind('.')]\n",
    "\n",
    "    img_file = os.path.join(datadir,fname+'.png')\n",
    "    ply_file=os.path.join(savedir,fname+'_2.ply')\n",
    "    with open(cam_file,'r') as fp:\n",
    "        meta = json.load(fp)\n",
    "    pose = torch.Tensor(meta['pose'])\n",
    "\n",
    "    points, viewdirs, valid_mask = helpers.project_onto_vol(vol_params, hwf, pose, near, far, 'cartesian')\n",
    "\n",
    "    img = Image.open(img_file)\n",
    "    img= np.array(img).astype(np.float32)[...,:3] / 255.\n",
    "    img[~valid_mask] = 0.0\n",
    "    img = torch.Tensor(img)\n",
    "\n",
    "    visualize.project_input_on_bounding_vol(points.permute(2,0,1), \n",
    "    img.permute(2,0,1), valid_mask, ply_file=ply_file)"
   ]
  },
  {
   "cell_type": "code",
   "execution_count": 28,
   "metadata": {},
   "outputs": [],
   "source": [
    "# separate tensorboard images into individual images\n",
    "from PIL import Image\n",
    "img_file = '/home/goel/Downloads/gt.png'\n",
    "img = Image.open(img_file)\n",
    "\n",
    "first_img = img.crop((0,0,400,400))\n",
    "first_img.save('/home/goel/Downloads/img5.png')\n",
    "\n",
    "first_img = img.crop((401,0,800,400))\n",
    "first_img.save('/home/goel/Downloads/img6.png')\n",
    "\n",
    "first_img = img.crop((801,0,1200,400))\n",
    "first_img.save('/home/goel/Downloads/img7.png')\n",
    "\n",
    "first_img = img.crop((1201,0,1600,400))\n",
    "first_img.save('/home/goel/Downloads/img8.png')"
   ]
  },
  {
   "cell_type": "code",
   "execution_count": 10,
   "metadata": {},
   "outputs": [],
   "source": [
    "# combining two images into one vertically\n",
    "images = [Image.open(x) for x in ['/home/goel/Downloads/pred1.png', '/home/goel/Downloads/pred2.png', '/home/goel/Downloads/pred3.png', '/home/goel/Downloads/pred4.png']]\n",
    "widths, heights = zip(*(i.size for i in images))\n",
    "\n",
    "total_width = sum(widths)\n",
    "max_height = max(heights)\n",
    "\n",
    "new_im = Image.new('RGB', (total_width, max_height))\n",
    "\n",
    "x_offset = 0\n",
    "for im in images:\n",
    "  new_im.paste(im, (x_offset,0))\n",
    "  x_offset += im.size[0]\n",
    "\n",
    "new_im.save('/home/goel/Downloads/nomap_train.png')"
   ]
  },
  {
   "cell_type": "code",
   "execution_count": 2,
   "metadata": {},
   "outputs": [
    {
     "output_type": "execute_result",
     "data": {
      "text/plain": [
       "<torch._C.Generator at 0x7fac67a59490>"
      ]
     },
     "metadata": {},
     "execution_count": 2
    }
   ],
   "source": [
    "# global params\n",
    "\n",
    "width = 512\n",
    "height = 512\n",
    "device = torch.device(\"cuda\" if torch.cuda.is_available() else \"cpu\")\n",
    "\n",
    "# volume params\n",
    "center = torch.Tensor([0.0, 0.0, 0.0])\n",
    "radius = 1.0\n",
    "vol_params = (\"sphere\", center, radius)\n",
    "\n",
    "np.random.seed(42)\n",
    "torch.manual_seed(42)"
   ]
  },
  {
   "cell_type": "code",
   "execution_count": 4,
   "metadata": {},
   "outputs": [
    {
     "output_type": "execute_result",
     "data": {
      "text/plain": [
       "<All keys matched successfully>"
      ]
     },
     "metadata": {},
     "execution_count": 4
    }
   ],
   "source": [
    "# load saved model\n",
    "model_name = 'ConvNet'\n",
    "input_ch = 6\n",
    "points_type = 'cartesian'\n",
    "viewdir_type = 'cartesian'\n",
    "out_dir = '/home/goel/Thesis/Code/dvr/outputs/lego/multiviews/no_map_radius1_mse/'\n",
    "writer_path = os.path.join(out_dir,'logs')\n",
    "model_path = os.path.join(out_dir,'models/best_model_194.pth')\n",
    "\n",
    "# create the model\n",
    "model = models.ConvNet(input_ch= input_ch,output_ch=3).to(device)\n",
    "\n",
    "checkpoint = torch.load(model_path, map_location=device)\n",
    "input_map = checkpoint['input_map']\n",
    "model.load_state_dict(checkpoint['state_dict'])"
   ]
  },
  {
   "cell_type": "code",
   "execution_count": 9,
   "metadata": {},
   "outputs": [],
   "source": [
    "data_dir = '/home/goel/Thesis/Data/nerf_synthetic/lego/train/'\n",
    "\n",
    "gt_file = os.path.join(data_dir,\"r_88.png\")\n",
    "cam_file = os.path.join(data_dir,\"r_88.json\")\n",
    "\n",
    "gt, points, viewdirs, valid_mask = nerf_helpers.get_input_data(gt_file, cam_file, vol_params, True, 0.6911112070083618, 2.0, 6.0, \"cartesian\", \"cartesian\") \n",
    "input = torch.cat((points, viewdirs),dim=0)\n",
    "input = data_utils.input_mapping(input, input_map, True, True, \"cartesian\", \"ConvNet\")\n",
    "input = input.unsqueeze_(0).to(device)\n",
    "output = model(input)\n",
    "output = torch.clamp(output,min=0.0,max=1.0)\n",
    "\n",
    "# gt_img = (gt.permute((1,2,0))*255.0).numpy().astype(np.uint8)\n",
    "# gt_img = Image.fromarray(gt_img)\n",
    "# gt_img.save(out_dir+'gt13.png')\n",
    "\n",
    "pred_img = (output.detach().cpu()[0].permute((1,2,0))*255.0).numpy().astype(np.uint8)\n",
    "pred_img = Image.fromarray(pred_img)\n",
    "pred_img.save('/home/goel/Downloads/pred4.png')"
   ]
  },
  {
   "cell_type": "code",
   "execution_count": 40,
   "metadata": {},
   "outputs": [
    {
     "output_type": "stream",
     "name": "stdout",
     "text": [
      "/home/goel/Thesis/Data/nerf_synthetic/lego/train/r_56.png\n",
      "/home/goel/Thesis/Data/nerf_synthetic/lego/train/r_82.png\n",
      "/home/goel/Thesis/Data/nerf_synthetic/lego/train/r_28.png\n",
      "/home/goel/Thesis/Data/nerf_synthetic/lego/train/r_7.png\n",
      "/home/goel/Thesis/Data/nerf_synthetic/lego/train/r_97.png\n",
      "/home/goel/Thesis/Data/nerf_synthetic/lego/train/r_23.png\n",
      "/home/goel/Thesis/Data/nerf_synthetic/lego/train/r_91.png\n",
      "/home/goel/Thesis/Data/nerf_synthetic/lego/train/r_22.png\n",
      "/home/goel/Thesis/Data/nerf_synthetic/lego/train/r_67.png\n",
      "/home/goel/Thesis/Data/nerf_synthetic/lego/train/r_18.png\n",
      "/home/goel/Thesis/Data/nerf_synthetic/lego/train/r_41.png\n",
      "/home/goel/Thesis/Data/nerf_synthetic/lego/train/r_32.png\n",
      "/home/goel/Thesis/Data/nerf_synthetic/lego/train/r_44.png\n",
      "/home/goel/Thesis/Data/nerf_synthetic/lego/train/r_31.png\n",
      "/home/goel/Thesis/Data/nerf_synthetic/lego/train/r_10.png\n",
      "/home/goel/Thesis/Data/nerf_synthetic/lego/train/r_39.png\n",
      "/home/goel/Thesis/Data/nerf_synthetic/lego/train/r_38.png\n",
      "/home/goel/Thesis/Data/nerf_synthetic/lego/train/r_30.png\n",
      "/home/goel/Thesis/Data/nerf_synthetic/lego/train/r_78.png\n",
      "/home/goel/Thesis/Data/nerf_synthetic/lego/train/r_13.png\n",
      "/home/goel/Thesis/Data/nerf_synthetic/lego/train/r_16.png\n",
      "/home/goel/Thesis/Data/nerf_synthetic/lego/train/r_61.png\n",
      "/home/goel/Thesis/Data/nerf_synthetic/lego/train/r_88.png\n",
      "/home/goel/Thesis/Data/nerf_synthetic/lego/train/r_71.png\n",
      "/home/goel/Thesis/Data/nerf_synthetic/lego/train/r_14.png\n",
      "/home/goel/Thesis/Data/nerf_synthetic/lego/train/r_75.png\n",
      "/home/goel/Thesis/Data/nerf_synthetic/lego/train/r_0.png\n",
      "/home/goel/Thesis/Data/nerf_synthetic/lego/train/r_4.png\n",
      "/home/goel/Thesis/Data/nerf_synthetic/lego/train/r_12.png\n",
      "/home/goel/Thesis/Data/nerf_synthetic/lego/train/r_36.png\n",
      "/home/goel/Thesis/Data/nerf_synthetic/lego/train/r_46.png\n",
      "/home/goel/Thesis/Data/nerf_synthetic/lego/train/r_55.png\n",
      "/home/goel/Thesis/Data/nerf_synthetic/lego/train/r_9.png\n",
      "/home/goel/Thesis/Data/nerf_synthetic/lego/train/r_77.png\n",
      "/home/goel/Thesis/Data/nerf_synthetic/lego/train/r_83.png\n",
      "/home/goel/Thesis/Data/nerf_synthetic/lego/train/r_21.png\n",
      "/home/goel/Thesis/Data/nerf_synthetic/lego/train/r_86.png\n",
      "/home/goel/Thesis/Data/nerf_synthetic/lego/train/r_85.png\n",
      "/home/goel/Thesis/Data/nerf_synthetic/lego/train/r_93.png\n",
      "/home/goel/Thesis/Data/nerf_synthetic/lego/train/r_8.png\n",
      "/home/goel/Thesis/Data/nerf_synthetic/lego/train/r_20.png\n",
      "/home/goel/Thesis/Data/nerf_synthetic/lego/train/r_1.png\n",
      "/home/goel/Thesis/Data/nerf_synthetic/lego/train/r_63.png\n",
      "/home/goel/Thesis/Data/nerf_synthetic/lego/train/r_87.png\n",
      "/home/goel/Thesis/Data/nerf_synthetic/lego/train/r_99.png\n",
      "/home/goel/Thesis/Data/nerf_synthetic/lego/train/r_50.png\n",
      "/home/goel/Thesis/Data/nerf_synthetic/lego/train/r_90.png\n",
      "/home/goel/Thesis/Data/nerf_synthetic/lego/train/r_35.png\n",
      "/home/goel/Thesis/Data/nerf_synthetic/lego/train/r_66.png\n",
      "/home/goel/Thesis/Data/nerf_synthetic/lego/train/r_37.png\n",
      "/home/goel/Thesis/Data/nerf_synthetic/lego/train/r_34.png\n",
      "/home/goel/Thesis/Data/nerf_synthetic/lego/train/r_72.png\n",
      "/home/goel/Thesis/Data/nerf_synthetic/lego/train/r_42.png\n",
      "/home/goel/Thesis/Data/nerf_synthetic/lego/train/r_70.png\n",
      "/home/goel/Thesis/Data/nerf_synthetic/lego/train/r_89.png\n",
      "/home/goel/Thesis/Data/nerf_synthetic/lego/train/r_2.png\n",
      "/home/goel/Thesis/Data/nerf_synthetic/lego/train/r_45.png\n",
      "/home/goel/Thesis/Data/nerf_synthetic/lego/train/r_19.png\n",
      "/home/goel/Thesis/Data/nerf_synthetic/lego/train/r_33.png\n",
      "/home/goel/Thesis/Data/nerf_synthetic/lego/train/r_65.png\n",
      "/home/goel/Thesis/Data/nerf_synthetic/lego/train/r_57.png\n",
      "/home/goel/Thesis/Data/nerf_synthetic/lego/train/r_58.png\n",
      "/home/goel/Thesis/Data/nerf_synthetic/lego/train/r_98.png\n",
      "/home/goel/Thesis/Data/nerf_synthetic/lego/train/r_11.png\n",
      "/home/goel/Thesis/Data/nerf_synthetic/lego/train/r_5.png\n",
      "/home/goel/Thesis/Data/nerf_synthetic/lego/train/r_60.png\n",
      "/home/goel/Thesis/Data/nerf_synthetic/lego/train/r_79.png\n",
      "/home/goel/Thesis/Data/nerf_synthetic/lego/train/r_96.png\n",
      "/home/goel/Thesis/Data/nerf_synthetic/lego/train/r_15.png\n",
      "/home/goel/Thesis/Data/nerf_synthetic/lego/train/r_3.png\n",
      "/home/goel/Thesis/Data/nerf_synthetic/lego/train/r_52.png\n",
      "/home/goel/Thesis/Data/nerf_synthetic/lego/train/r_94.png\n",
      "/home/goel/Thesis/Data/nerf_synthetic/lego/train/r_73.png\n",
      "/home/goel/Thesis/Data/nerf_synthetic/lego/train/r_80.png\n",
      "/home/goel/Thesis/Data/nerf_synthetic/lego/train/r_49.png\n",
      "/home/goel/Thesis/Data/nerf_synthetic/lego/train/r_95.png\n",
      "/home/goel/Thesis/Data/nerf_synthetic/lego/train/r_26.png\n",
      "/home/goel/Thesis/Data/nerf_synthetic/lego/train/r_84.png\n",
      "/home/goel/Thesis/Data/nerf_synthetic/lego/train/r_68.png\n",
      "/home/goel/Thesis/Data/nerf_synthetic/lego/train/r_24.png\n",
      "/home/goel/Thesis/Data/nerf_synthetic/lego/train/r_40.png\n",
      "/home/goel/Thesis/Data/nerf_synthetic/lego/train/r_25.png\n",
      "/home/goel/Thesis/Data/nerf_synthetic/lego/train/r_92.png\n",
      "/home/goel/Thesis/Data/nerf_synthetic/lego/train/r_74.png\n",
      "/home/goel/Thesis/Data/nerf_synthetic/lego/train/r_43.png\n",
      "/home/goel/Thesis/Data/nerf_synthetic/lego/train/r_69.png\n",
      "/home/goel/Thesis/Data/nerf_synthetic/lego/train/r_53.png\n",
      "/home/goel/Thesis/Data/nerf_synthetic/lego/train/r_59.png\n",
      "/home/goel/Thesis/Data/nerf_synthetic/lego/train/r_64.png\n",
      "/home/goel/Thesis/Data/nerf_synthetic/lego/train/r_27.png\n",
      "/home/goel/Thesis/Data/nerf_synthetic/lego/train/r_17.png\n",
      "/home/goel/Thesis/Data/nerf_synthetic/lego/train/r_6.png\n",
      "/home/goel/Thesis/Data/nerf_synthetic/lego/train/r_81.png\n",
      "/home/goel/Thesis/Data/nerf_synthetic/lego/train/r_51.png\n",
      "/home/goel/Thesis/Data/nerf_synthetic/lego/train/r_54.png\n",
      "/home/goel/Thesis/Data/nerf_synthetic/lego/train/r_48.png\n",
      "/home/goel/Thesis/Data/nerf_synthetic/lego/train/r_76.png\n",
      "/home/goel/Thesis/Data/nerf_synthetic/lego/train/r_29.png\n",
      "/home/goel/Thesis/Data/nerf_synthetic/lego/train/r_47.png\n",
      "/home/goel/Thesis/Data/nerf_synthetic/lego/train/r_62.png\n"
     ]
    }
   ],
   "source": [
    "data_dir = '/home/goel/Thesis/Data/nerf_synthetic/lego/train/'\n",
    "for gt_file in glob.glob(data_dir+'*.png'):\n",
    "    idx = gt_file[gt_file.rfind('/')+1:gt_file.rfind('.')]\n",
    "    cam_file = data_dir+idx+'.json'\n",
    "    gt, points, viewdirs, valid_mask = nerf_helpers.get_input_data(gt_file, cam_file, vol_params, True, 0.6911112070083618, 2.0, 6.0, \"cartesian\", \"cartesian\")\n",
    "    gt[:,~valid_mask] = 0.0\n",
    "    gt_img = (gt.permute((1,2,0))*255.0).numpy().astype(np.uint8)\n",
    "    gt_img = Image.fromarray(gt_img)\n",
    "    gt_img.save('/home/goel/Downloads/gt_files/'+idx+'.png')"
   ]
  },
  {
   "cell_type": "code",
   "execution_count": 38,
   "metadata": {},
   "outputs": [
    {
     "output_type": "execute_result",
     "data": {
      "text/plain": [
       "torch.Size([3, 400, 400])"
      ]
     },
     "metadata": {},
     "execution_count": 38
    }
   ],
   "source": [
    "gt.shape"
   ]
  },
  {
   "cell_type": "code",
   "execution_count": null,
   "metadata": {},
   "outputs": [],
   "source": []
  }
 ]
}